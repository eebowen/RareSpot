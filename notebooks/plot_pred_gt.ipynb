{
 "cells": [
  {
   "cell_type": "code",
   "execution_count": 5,
   "metadata": {},
   "outputs": [],
   "source": [
    "import os\n",
    "import cv2\n",
    "import matplotlib.pyplot as plt\n",
    "from tqdm import tqdm\n",
    "# Define paths\n",
    "image_folder = \"/data/home/bowen/projects/prairie_dog_2/data/old_data/two_classes/run1_run2_yolo/images/run1_tiles\"\n",
    "gt_folder = \"/data/home/bowen/projects/prairie_dog_2/data/old_data/two_classes/run1_run2_yolo/labels/run1_tiles\"\n",
    "pred_folder = \"/data/home/bowen/projects/prairie_dog_2/yolov5_a100/runs/val/run12_con_1000epoch10/labels\"\n",
    "output_folder = \"train/output_visualizations\"\n",
    "\n",
    "os.makedirs(output_folder, exist_ok=True)"
   ]
  },
  {
   "cell_type": "code",
   "execution_count": 6,
   "metadata": {},
   "outputs": [
    {
     "name": "stderr",
     "output_type": "stream",
     "text": [
      "100%|██████████| 7616/7616 [00:33<00:00, 225.78it/s]"
     ]
    },
    {
     "name": "stdout",
     "output_type": "stream",
     "text": [
      "Processing complete. Check the output_visualizations folder.\n"
     ]
    },
    {
     "name": "stderr",
     "output_type": "stream",
     "text": [
      "\n"
     ]
    }
   ],
   "source": [
    "# YOLO label format: class_id center_x center_y width height (normalized)\n",
    "def read_yolo_labels(txt_path):\n",
    "    \"\"\"Reads YOLO format labels from a text file.\"\"\"\n",
    "    labels = []\n",
    "    if os.path.exists(txt_path):\n",
    "        with open(txt_path, \"r\") as f:\n",
    "            for line in f.readlines():\n",
    "                parts = line.strip().split()\n",
    "                if len(parts) >= 5:  # At least class and bbox info\n",
    "                    class_id = int(parts[0])\n",
    "                    bbox = list(map(float, parts[1:5]))  # center_x, center_y, width, height\n",
    "                    confidence = float(parts[5]) if len(parts) == 6 else None\n",
    "                    labels.append((class_id, bbox, confidence))\n",
    "    return labels\n",
    "\n",
    "# Draw bounding boxes\n",
    "def draw_boxes(image, labels, color, label_text=\"\"):\n",
    "    \"\"\"Draws bounding boxes on the image.\"\"\"\n",
    "    h, w, _ = image.shape\n",
    "    for class_id, bbox, confidence in labels:\n",
    "        center_x, center_y, width, height = bbox\n",
    "        x1 = int((center_x - width / 2) * w)\n",
    "        y1 = int((center_y - height / 2) * h)\n",
    "        x2 = int((center_x + width / 2) * w)\n",
    "        y2 = int((center_y + height / 2) * h)\n",
    "\n",
    "        # Draw rectangle\n",
    "        cv2.rectangle(image, (x1, y1), (x2, y2), color, 2)\n",
    "\n",
    "        # Display label and confidence if available\n",
    "        label_str = f\"{label_text}{class_id}\"\n",
    "        if confidence is not None:\n",
    "            label_str += f\" ({confidence:.2f})\"\n",
    "        cv2.putText(image, label_str, (x1, y1 - 5), cv2.FONT_HERSHEY_SIMPLEX, 0.5, color, 2)\n",
    "\n",
    "# Process images\n",
    "for img_file in tqdm(os.listdir(image_folder)):\n",
    "    if img_file.endswith((\".jpg\", \".png\", \".jpeg\")):\n",
    "        img_path = os.path.join(image_folder, img_file)\n",
    "        gt_path = os.path.join(gt_folder, img_file.rsplit(\".\", 1)[0] + \".txt\")\n",
    "        pred_path = os.path.join(pred_folder, img_file.rsplit(\".\", 1)[0] + \".txt\")\n",
    "        \n",
    "        # Read labels and predictions\n",
    "        gt_labels = read_yolo_labels(gt_path)\n",
    "        pred_labels = read_yolo_labels(pred_path)\n",
    "\n",
    "        # Skip images without ground truth and predictions\n",
    "        if not gt_labels and not pred_labels:\n",
    "            continue\n",
    "        \n",
    "        # Read image\n",
    "        image = cv2.imread(img_path)\n",
    "        if image is None:\n",
    "            continue\n",
    "        \n",
    "        # Draw ground truth (green) and predictions (red)\n",
    "        draw_boxes(image, gt_labels, (0, 255, 0), \"GT: \")\n",
    "        draw_boxes(image, pred_labels, (0, 0, 255), \"Pred: \")\n",
    "        \n",
    "        # Save the image with plotted labels\n",
    "        save_path = os.path.join(output_folder, img_file)\n",
    "        cv2.imwrite(save_path, image)\n",
    "\n",
    "print(\"Processing complete. Check the output_visualizations folder.\")"
   ]
  },
  {
   "cell_type": "code",
   "execution_count": 7,
   "metadata": {},
   "outputs": [
    {
     "name": "stderr",
     "output_type": "stream",
     "text": [
      "100%|██████████| 7616/7616 [00:10<00:00, 761.18it/s]"
     ]
    },
    {
     "name": "stdout",
     "output_type": "stream",
     "text": [
      "Processing complete. Check the output folders:\n",
      "- train/output_visualizations: Contains images with both GT and predictions\n",
      "- train/output_only_gt: Contains images with only GT (no predictions)\n",
      "- train/output_only_pred: Contains images with only predictions (no GT)\n"
     ]
    },
    {
     "name": "stderr",
     "output_type": "stream",
     "text": [
      "\n"
     ]
    }
   ],
   "source": [
    "import os\n",
    "import cv2\n",
    "output_folder_both = \"train/output_visualizations\"  # Both GT & Pred\n",
    "output_folder_gt = \"train/output_only_gt\"  # GT but no Pred\n",
    "output_folder_pred = \"train/output_only_pred\"  # Pred but no GT\n",
    "\n",
    "# Ensure output folders exist\n",
    "os.makedirs(output_folder_both, exist_ok=True)\n",
    "os.makedirs(output_folder_gt, exist_ok=True)\n",
    "os.makedirs(output_folder_pred, exist_ok=True)\n",
    "\n",
    "# YOLO label format: class_id center_x center_y width height (normalized)\n",
    "def read_yolo_labels(txt_path):\n",
    "    \"\"\"Reads YOLO format labels from a text file.\"\"\"\n",
    "    labels = []\n",
    "    if os.path.exists(txt_path):\n",
    "        with open(txt_path, \"r\") as f:\n",
    "            for line in f.readlines():\n",
    "                parts = line.strip().split()\n",
    "                if len(parts) >= 5:  # At least class and bbox info\n",
    "                    class_id = int(parts[0])\n",
    "                    bbox = list(map(float, parts[1:5]))  # center_x, center_y, width, height\n",
    "                    confidence = float(parts[5]) if len(parts) == 6 else None\n",
    "                    labels.append((class_id, bbox, confidence))\n",
    "    return labels\n",
    "\n",
    "# Draw bounding boxes\n",
    "def draw_boxes(image, labels, color, label_text=\"\"):\n",
    "    \"\"\"Draws bounding boxes on the image.\"\"\"\n",
    "    h, w, _ = image.shape\n",
    "    for class_id, bbox, confidence in labels:\n",
    "        center_x, center_y, width, height = bbox\n",
    "        x1 = int((center_x - width / 2) * w)\n",
    "        y1 = int((center_y - height / 2) * h)\n",
    "        x2 = int((center_x + width / 2) * w)\n",
    "        y2 = int((center_y + height / 2) * h)\n",
    "\n",
    "        # Draw rectangle\n",
    "        cv2.rectangle(image, (x1, y1), (x2, y2), color, 2)\n",
    "\n",
    "        # Display label and confidence if available\n",
    "        label_str = f\"{label_text}{class_id}\"\n",
    "        if confidence is not None:\n",
    "            label_str += f\" ({confidence:.2f})\"\n",
    "        cv2.putText(image, label_str, (x1, y1 - 5), cv2.FONT_HERSHEY_SIMPLEX, 0.5, color, 2)\n",
    "\n",
    "# Process images\n",
    "for img_file in tqdm(os.listdir(image_folder)):\n",
    "    if img_file.endswith((\".jpg\", \".png\", \".jpeg\")):\n",
    "        img_path = os.path.join(image_folder, img_file)\n",
    "        gt_path = os.path.join(gt_folder, img_file.rsplit(\".\", 1)[0] + \".txt\")\n",
    "        pred_path = os.path.join(pred_folder, img_file.rsplit(\".\", 1)[0] + \".txt\")\n",
    "        \n",
    "        # Read labels and predictions\n",
    "        gt_labels = read_yolo_labels(gt_path)\n",
    "        pred_labels = read_yolo_labels(pred_path)\n",
    "\n",
    "        # Skip images that have neither GT nor Predictions\n",
    "        if not gt_labels and not pred_labels:\n",
    "            continue\n",
    "        \n",
    "        # Read image\n",
    "        image = cv2.imread(img_path)\n",
    "        if image is None:\n",
    "            continue\n",
    "        \n",
    "        # Draw bounding boxes\n",
    "        if gt_labels:\n",
    "            draw_boxes(image, gt_labels, (0, 255, 0), \"GT: \")  # Green for GT\n",
    "        if pred_labels:\n",
    "            draw_boxes(image, pred_labels, (0, 0, 255), \"Pred: \")  # Red for Predictions\n",
    "\n",
    "        if gt_labels and not pred_labels:\n",
    "            save_path = os.path.join(output_folder_gt, img_file)  # Only GT, No Pred\n",
    "        elif pred_labels and not gt_labels:\n",
    "            save_path = os.path.join(output_folder_pred, img_file)  # Only Pred, No GT\n",
    "        else:\n",
    "            continue  # Should never reach here due to earlier condition\n",
    "\n",
    "        # Save the annotated image\n",
    "        cv2.imwrite(save_path, image)\n",
    "\n",
    "print(\"Processing complete. Check the output folders:\")\n",
    "print(f\"- {output_folder_both}: Contains images with both GT and predictions\")\n",
    "print(f\"- {output_folder_gt}: Contains images with only GT (no predictions)\")\n",
    "print(f\"- {output_folder_pred}: Contains images with only predictions (no GT)\")\n"
   ]
  },
  {
   "cell_type": "code",
   "execution_count": null,
   "metadata": {},
   "outputs": [],
   "source": []
  }
 ],
 "metadata": {
  "kernelspec": {
   "display_name": "ml",
   "language": "python",
   "name": "python3"
  },
  "language_info": {
   "codemirror_mode": {
    "name": "ipython",
    "version": 3
   },
   "file_extension": ".py",
   "mimetype": "text/x-python",
   "name": "python",
   "nbconvert_exporter": "python",
   "pygments_lexer": "ipython3",
   "version": "3.9.20"
  }
 },
 "nbformat": 4,
 "nbformat_minor": 2
}
